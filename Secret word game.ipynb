{
 "cells": [
  {
   "cell_type": "code",
   "execution_count": 1,
   "id": "41bf1f50",
   "metadata": {},
   "outputs": [
    {
     "name": "stdout",
     "output_type": "stream",
     "text": [
      "Guess a letter: \n",
      "_ _ _ Guess a letter: a\n",
      "you guessed wrong\n",
      "_ _ _ Guess a letter: t\n",
      "you guessed wrong\n",
      "_ _ _ Guess a letter: e\n",
      "you guessed wrong\n",
      "_ _ _ Guess a letter: c\n",
      "you guessed wrong\n",
      "_ _ _ Guess a letter: b\n",
      "you guessed wrong\n",
      "_ _ _ Guess a letter: f\n",
      "you guessed wrong\n",
      "You lose!\n"
     ]
    }
   ],
   "source": [
    "import random\n",
    "\n",
    "with open ('/usr/share/dict/words')\n",
    "\n",
    "words = ('ant baboon badger bat bear beaver camel cat clam cobra cougar '\n",
    "         'coyote crow deer dog donkey duck eagle ferret fox frog goat '\n",
    "         'goose hawk lion lizard llama mole monkey moose mouse mule newt '\n",
    "         'otter owl panda parrot pigeon python rabbit ram rat raven '\n",
    "         'rhino salmon seal shark sheep skunk sloth snake spider '\n",
    "         'stork swan tiger toad trout turkey turtle weasel whale wolf '\n",
    "         'wombat zebra ').split()\n",
    "\n",
    "word = random.choice(words)\n",
    "\n",
    "print(\"Guess a letter: \")\n",
    "\n",
    "guesses = \"\"\n",
    "turns = 6\n",
    "\n",
    "while turns > 0:\n",
    "    missing_letters = 0\n",
    "    \n",
    "    for char in word:\n",
    "        if char in guesses:\n",
    "            print(char, end = \" \")\n",
    "        else:\n",
    "            print(\"_\", end = \" \")\n",
    "            missing_letters += 1\n",
    "            \n",
    "    if missing_letters == 0:\n",
    "        print(\"Yay you won!\")\n",
    "        break\n",
    "        \n",
    "    guess = input(\"Guess a letter: \")\n",
    "    guesses += guess\n",
    "    \n",
    "    if guess not in word:\n",
    "        turns -= 1\n",
    "        print(\"you guessed wrong\")\n",
    "        \n",
    "    if turns == 0:\n",
    "        print(\"You lose!\")\n",
    "    "
   ]
  },
  {
   "cell_type": "code",
   "execution_count": null,
   "id": "25828d9b",
   "metadata": {},
   "outputs": [],
   "source": []
  },
  {
   "cell_type": "code",
   "execution_count": null,
   "id": "00bb0746",
   "metadata": {},
   "outputs": [],
   "source": []
  },
  {
   "cell_type": "code",
   "execution_count": null,
   "id": "7404cef2",
   "metadata": {},
   "outputs": [],
   "source": []
  }
 ],
 "metadata": {
  "kernelspec": {
   "display_name": "Python 3 (ipykernel)",
   "language": "python",
   "name": "python3"
  },
  "language_info": {
   "codemirror_mode": {
    "name": "ipython",
    "version": 3
   },
   "file_extension": ".py",
   "mimetype": "text/x-python",
   "name": "python",
   "nbconvert_exporter": "python",
   "pygments_lexer": "ipython3",
   "version": "3.9.6"
  }
 },
 "nbformat": 4,
 "nbformat_minor": 5
}
