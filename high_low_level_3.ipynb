{
 "cells": [
  {
   "cell_type": "code",
   "execution_count": 2,
   "id": "2689fbf6",
   "metadata": {},
   "outputs": [
    {
     "name": "stdout",
     "output_type": "stream",
     "text": [
      "Pick a number between 1 - 10: 3\n",
      "The CPU guessed too high - 5\n",
      "The CPU guessed too low - 2\n",
      "The CPU won in 3 tries\n"
     ]
    }
   ],
   "source": [
    "import random\n",
    "\n",
    "def play():\n",
    "    player_num = int(input(\"Pick a number between 1 - 10: \"))\n",
    "    min, max = 1, 10\n",
    "#     ^^ one liner for below\n",
    "#     min = 1\n",
    "#     max = 10\n",
    "    counter = 0\n",
    "    \n",
    "    while True:\n",
    "        counter += 1\n",
    "        cpu_num = (min + max) // 2\n",
    "        \n",
    "        if cpu_num == player_num:\n",
    "            print(f\"The CPU won in {counter} tries\")\n",
    "            break\n",
    "        elif cpu_num < player_num:\n",
    "            print(f\"The CPU guessed too low - {cpu_num}\")\n",
    "            min = cpu_num + 1\n",
    "            continue\n",
    "        else:\n",
    "            print(f\"The CPU guessed too high - {cpu_num}\")\n",
    "            max = cpu_num - 1\n",
    "            continue\n",
    "\n",
    "       \n",
    "\n",
    "if __name__ == \"__main__\":\n",
    "    play()"
   ]
  },
  {
   "cell_type": "code",
   "execution_count": null,
   "id": "59a6314b",
   "metadata": {},
   "outputs": [],
   "source": []
  }
 ],
 "metadata": {
  "kernelspec": {
   "display_name": "Python 3 (ipykernel)",
   "language": "python",
   "name": "python3"
  },
  "language_info": {
   "codemirror_mode": {
    "name": "ipython",
    "version": 3
   },
   "file_extension": ".py",
   "mimetype": "text/x-python",
   "name": "python",
   "nbconvert_exporter": "python",
   "pygments_lexer": "ipython3",
   "version": "3.9.6"
  }
 },
 "nbformat": 4,
 "nbformat_minor": 5
}
