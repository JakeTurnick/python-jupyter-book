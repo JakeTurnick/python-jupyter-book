{
 "cells": [
  {
   "cell_type": "code",
   "execution_count": 1,
   "id": "6e84bb55",
   "metadata": {},
   "outputs": [
    {
     "name": "stdout",
     "output_type": "stream",
     "text": [
      "Guess a number between 1 - 10: 5\n",
      "Your guess was too high\n",
      "Guess a number between 1 - 10: 3\n",
      "Your guess was too high\n",
      "Guess a number between 1 - 10: 2\n",
      "Your guess was too high\n",
      "Sorry, you ran out of guesses\n"
     ]
    }
   ],
   "source": [
    "import random\n",
    "\n",
    "def play():\n",
    "    rnd_num = random.randint(1,10)\n",
    "    counter = 0\n",
    "    while counter < 3:\n",
    "        counter += 1\n",
    "        guess = int(input(\"Guess a number between 1 - 10: \"))\n",
    "        \n",
    "        if guess == rnd_num:\n",
    "            print(\"Gz - you guessed the number\")\n",
    "            break\n",
    "        elif guess < rnd_num:\n",
    "            print(\"Your guess was too low!\")\n",
    "        else:\n",
    "            print(\"Your guess was too high\")\n",
    "            \n",
    "        if counter == 3:\n",
    "            print(\"Sorry, you ran out of guesses\")\n",
    "            \n",
    "            \n",
    "if __name__ == '__main__':\n",
    "    # prevents function from immediately invoking it if imported\n",
    "    # Number_Guesser_Notes.py --> runs play\n",
    "    # only runs play() if this file is the __main__ file\n",
    "    play()\n",
    "\n",
    "    # function can't be empty, pass tells pythong to move past it"
   ]
  },
  {
   "cell_type": "code",
   "execution_count": null,
   "id": "47c1fd22",
   "metadata": {},
   "outputs": [],
   "source": []
  },
  {
   "cell_type": "code",
   "execution_count": null,
   "id": "7de4db07",
   "metadata": {},
   "outputs": [],
   "source": []
  },
  {
   "cell_type": "code",
   "execution_count": null,
   "id": "9717403d",
   "metadata": {},
   "outputs": [],
   "source": []
  },
  {
   "cell_type": "code",
   "execution_count": null,
   "id": "ca96bb24",
   "metadata": {},
   "outputs": [],
   "source": []
  }
 ],
 "metadata": {
  "kernelspec": {
   "display_name": "Python 3 (ipykernel)",
   "language": "python",
   "name": "python3"
  },
  "language_info": {
   "codemirror_mode": {
    "name": "ipython",
    "version": 3
   },
   "file_extension": ".py",
   "mimetype": "text/x-python",
   "name": "python",
   "nbconvert_exporter": "python",
   "pygments_lexer": "ipython3",
   "version": "3.9.6"
  }
 },
 "nbformat": 4,
 "nbformat_minor": 5
}
