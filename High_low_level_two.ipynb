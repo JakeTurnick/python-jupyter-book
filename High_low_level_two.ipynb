{
 "cells": [
  {
   "cell_type": "code",
   "execution_count": 2,
   "id": "9ce610b0",
   "metadata": {},
   "outputs": [
    {
     "name": "stdout",
     "output_type": "stream",
     "text": [
      "Pick a number between 1 - 103\n",
      "CPU Guess: 5\n",
      "CPU Guess: 5\n",
      "CPU Guess: 4\n",
      "You win! The CPU couldn't gess your number!\n"
     ]
    }
   ],
   "source": [
    "import random\n",
    "\n",
    "user_num = int(input(\"Pick a number between 1 - 10\"))\n",
    "counter = 0\n",
    "\n",
    "while counter < 3:\n",
    "    counter += 1\n",
    "    cpu_num = random.randint(1, 10)\n",
    "    print(f\"CPU Guess: {cpu_num}\")\n",
    "    if cpu_num == user_num:\n",
    "        print(\"CPU wins! They guessed your number\")\n",
    "        break\n",
    "        \n",
    "    if counter == 3:\n",
    "        print(\"You win! The CPU couldn't gess your number!\")"
   ]
  },
  {
   "cell_type": "code",
   "execution_count": null,
   "id": "3b779159",
   "metadata": {},
   "outputs": [],
   "source": []
  }
 ],
 "metadata": {
  "kernelspec": {
   "display_name": "Python 3 (ipykernel)",
   "language": "python",
   "name": "python3"
  },
  "language_info": {
   "codemirror_mode": {
    "name": "ipython",
    "version": 3
   },
   "file_extension": ".py",
   "mimetype": "text/x-python",
   "name": "python",
   "nbconvert_exporter": "python",
   "pygments_lexer": "ipython3",
   "version": "3.9.6"
  }
 },
 "nbformat": 4,
 "nbformat_minor": 5
}
